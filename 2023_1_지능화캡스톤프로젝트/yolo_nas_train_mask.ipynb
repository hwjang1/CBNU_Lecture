{
 "cells": [
  {
   "cell_type": "code",
   "execution_count": 1,
   "id": "e22e5e0c",
   "metadata": {
    "ExecuteTime": {
     "end_time": "2023-06-13T14:02:07.122328600Z",
     "start_time": "2023-06-13T14:02:00.742268900Z"
    }
   },
   "outputs": [],
   "source": [
    "from super_gradients.training import Trainer, dataloaders, models\n",
    "from super_gradients.training.dataloaders.dataloaders import coco_detection_yolo_format_train, coco_detection_yolo_format_val\n",
    "from super_gradients.training.losses import PPYoloELoss\n",
    "from super_gradients.training.metrics import DetectionMetrics_050\n",
    "from super_gradients.training.models.detection_models.pp_yolo_e import PPYoloEPostPredictionCallback\n",
    "from glob import glob\n",
    "from sklearn.model_selection import train_test_split\n",
    "import shutil\n",
    "import os\n",
    "from tqdm import tqdm"
   ]
  },
  {
   "cell_type": "code",
   "execution_count": 6,
   "outputs": [],
   "source": [
    "all_datasets = glob(r'C:\\Project\\datasets\\mask_dataset2\\images\\*')"
   ],
   "metadata": {
    "collapsed": false,
    "ExecuteTime": {
     "end_time": "2023-06-13T15:21:32.907375900Z",
     "start_time": "2023-06-13T15:21:32.850440500Z"
    }
   }
  },
  {
   "cell_type": "code",
   "execution_count": 7,
   "outputs": [],
   "source": [
    "train_images, valid_images = train_test_split(all_datasets, test_size=0.2, random_state=42)"
   ],
   "metadata": {
    "collapsed": false,
    "ExecuteTime": {
     "end_time": "2023-06-13T15:21:34.202677500Z",
     "start_time": "2023-06-13T15:21:34.189174700Z"
    }
   }
  },
  {
   "cell_type": "code",
   "execution_count": 8,
   "outputs": [
    {
     "name": "stderr",
     "output_type": "stream",
     "text": [
      "8980it [00:19, 444.61it/s]"
     ]
    }
   ],
   "source": [
    "for i, image in tqdm(enumerate(train_images)):\n",
    "    label = image.replace('\\\\images\\\\', '\\\\labels\\\\')\n",
    "    image_name = image.split('\\\\')[-1]\n",
    "    label_name = os.path.splitext(image_name)[0] + '.txt'\n",
    "    label, _ = os.path.splitext(label)\n",
    "    label = label + '.txt'\n",
    "\n",
    "    if not os.path.exists(label):\n",
    "        print(label)\n",
    "\n",
    "    if not os.path.exists(r'C:\\Project\\datasets\\mask_dataset\\train\\images'):\n",
    "        os.makedirs(r'C:\\Project\\datasets\\mask_dataset\\train\\images')\n",
    "    if not os.path.exists(r'C:\\Project\\datasets\\mask_dataset\\train\\labels'):\n",
    "        os.makedirs(r'C:\\Project\\datasets\\mask_dataset\\train\\labels')\n",
    "\n",
    "    shutil.copy(image, r'C:\\Project\\datasets\\mask_dataset\\train\\images\\{}'.format(image_name))\n",
    "    shutil.copy(label, r'C:\\Project\\datasets\\mask_dataset\\train\\labels\\{}'.format(label_name))"
   ],
   "metadata": {
    "collapsed": false,
    "ExecuteTime": {
     "end_time": "2023-06-13T15:21:56.051452900Z",
     "start_time": "2023-06-13T15:21:36.385514800Z"
    }
   }
  },
  {
   "cell_type": "code",
   "execution_count": 9,
   "outputs": [
    {
     "name": "stderr",
     "output_type": "stream",
     "text": [
      "9036it [00:19, 459.67it/s]\n",
      "2175it [00:05, 490.15it/s]"
     ]
    }
   ],
   "source": [
    "for i, image in tqdm(enumerate(valid_images)):\n",
    "    label = image.replace('\\\\images\\\\', '\\\\labels\\\\')\n",
    "    image_name = image.split('\\\\')[-1]\n",
    "    label_name = os.path.splitext(image_name)[0] + '.txt'\n",
    "    label, _ = os.path.splitext(label)\n",
    "    label = label + '.txt'\n",
    "\n",
    "    if not os.path.exists(r'C:\\Project\\datasets\\mask_dataset\\valid\\images'):\n",
    "        os.makedirs(r'C:\\Project\\datasets\\mask_dataset\\valid\\images')\n",
    "    if not os.path.exists(r'C:\\Project\\datasets\\mask_dataset\\valid\\labels'):\n",
    "        os.makedirs(r'C:\\Project\\datasets\\mask_dataset\\valid\\labels')\n",
    "\n",
    "    shutil.copy(image, r'C:\\Project\\datasets\\mask_dataset\\valid\\images\\{}'.format(image_name))\n",
    "    shutil.copy(label, r'C:\\Project\\datasets\\mask_dataset\\valid\\labels\\{}'.format(label_name))"
   ],
   "metadata": {
    "collapsed": false,
    "ExecuteTime": {
     "end_time": "2023-06-13T15:22:01.293988500Z",
     "start_time": "2023-06-13T15:21:56.050452500Z"
    }
   }
  },
  {
   "cell_type": "code",
   "execution_count": null,
   "id": "728ac74a",
   "metadata": {},
   "outputs": [],
   "source": [
    "trainer = Trainer(experiment_name='mask_yolo_nas', ckpt_root_dir='checkpoints')"
   ]
  },
  {
   "cell_type": "code",
   "execution_count": null,
   "outputs": [],
   "source": [
    "classes = ['face', 'mask']\n",
    "EPOCHS = 50"
   ],
   "metadata": {
    "collapsed": false
   }
  },
  {
   "cell_type": "code",
   "execution_count": null,
   "id": "0622c4f2",
   "metadata": {},
   "outputs": [],
   "source": [
    "train_dataset = coco_detection_yolo_format_train(dataset_params={\n",
    "    'data_dir': r'C:\\Project\\datasets\\mask_dataset\\train', 'images_dir': 'images', 'labels_dir': 'labels'\n",
    "    , 'classes': classes\n",
    "}, dataloader_params={\n",
    "    'batch_size': 6, 'num_workers': 3\n",
    "})"
   ]
  },
  {
   "cell_type": "code",
   "execution_count": null,
   "id": "b5529e36",
   "metadata": {},
   "outputs": [],
   "source": [
    "valid_dataset = coco_detection_yolo_format_val(dataset_params={\n",
    "    'data_dir': r'C:\\Project\\datasets\\mask_dataset\\valid', 'images_dir': 'images', 'labels_dir': 'labels'\n",
    "    , 'classes': classes\n",
    "}, dataloader_params={\n",
    "    'batch_size': 1, 'num_workers': 1\n",
    "})"
   ]
  },
  {
   "cell_type": "code",
   "execution_count": null,
   "id": "21b5115c",
   "metadata": {},
   "outputs": [],
   "source": [
    "train_dataset.dataset.plot()"
   ]
  },
  {
   "cell_type": "code",
   "execution_count": null,
   "id": "4c8b0720",
   "metadata": {},
   "outputs": [],
   "source": [
    "train_dataset.dataset.dataset_params['transforms'][1]"
   ]
  },
  {
   "cell_type": "code",
   "execution_count": null,
   "id": "816b695b",
   "metadata": {},
   "outputs": [],
   "source": [
    "model = models.get('yolo_nas_m', num_classes=2, pretrained_weights='')"
   ]
  },
  {
   "cell_type": "code",
   "execution_count": null,
   "id": "257aae3b",
   "metadata": {},
   "outputs": [],
   "source": [
    "from super_gradients.training.metrics import DetectionMetrics_050_095\n",
    "\n",
    "train_params = {\n",
    "    'silent_mode': False,\n",
    "    \"average_best_models\":True,\n",
    "    \"warmup_mode\": \"linear_epoch_step\",\n",
    "    \"warmup_initial_lr\": 1e-6,\n",
    "    \"lr_warmup_epochs\": 3,\n",
    "    \"initial_lr\": 5e-4,\n",
    "    \"lr_mode\": \"cosine\",\n",
    "    \"cosine_final_lr_ratio\": 0.1,\n",
    "    \"optimizer\": \"Adam\",\n",
    "    \"optimizer_params\": {\"weight_decay\": 0.0001},\n",
    "    \"zero_weight_decay_on_bias_and_bn\": True,\n",
    "    \"ema\": True,\n",
    "    \"ema_params\": {\"decay\": 0.9, \"decay_type\": \"threshold\"},\n",
    "    \"max_epochs\": EPOCHS,\n",
    "    \"mixed_precision\": True,\n",
    "    \"loss\": PPYoloELoss(\n",
    "        use_static_assigner=False,\n",
    "        num_classes=len(classes),\n",
    "        reg_max=16\n",
    "    ),\n",
    "    \"valid_metrics_list\": [\n",
    "        DetectionMetrics_050(\n",
    "            score_thres=0.1,\n",
    "            top_k_predictions=300,\n",
    "            num_cls=len(classes),\n",
    "            normalize_targets=True,\n",
    "            post_prediction_callback=PPYoloEPostPredictionCallback(\n",
    "                score_threshold=0.01,\n",
    "                nms_top_k=1000,\n",
    "                max_predictions=300,\n",
    "                nms_threshold=0.7\n",
    "            )\n",
    "        ),\n",
    "        DetectionMetrics_050_095(\n",
    "            score_thres=0.1,\n",
    "            top_k_predictions=300,\n",
    "            num_cls=len(classes),\n",
    "            normalize_targets=True,\n",
    "            post_prediction_callback=PPYoloEPostPredictionCallback(\n",
    "                score_threshold=0.01,\n",
    "                nms_top_k=1000,\n",
    "                max_predictions=300,\n",
    "                nms_threshold=0.7\n",
    "            )\n",
    "        )\n",
    "    ],\n",
    "    \"metric_to_watch\": 'mAP@0.50:0.95'\n",
    "}"
   ]
  },
  {
   "cell_type": "code",
   "execution_count": null,
   "id": "da18b241",
   "metadata": {},
   "outputs": [],
   "source": [
    "trainer.train(model=model, training_params=train_params, train_loader=train_dataset, valid_loader=valid_dataset)"
   ]
  },
  {
   "cell_type": "code",
   "execution_count": null,
   "id": "3083815f",
   "metadata": {},
   "outputs": [],
   "source": []
  }
 ],
 "metadata": {
  "kernelspec": {
   "display_name": "yolonas",
   "language": "python",
   "name": "yolonas"
  },
  "language_info": {
   "codemirror_mode": {
    "name": "ipython",
    "version": 3
   },
   "file_extension": ".py",
   "mimetype": "text/x-python",
   "name": "python",
   "nbconvert_exporter": "python",
   "pygments_lexer": "ipython3",
   "version": "3.9.16"
  }
 },
 "nbformat": 4,
 "nbformat_minor": 5
}
